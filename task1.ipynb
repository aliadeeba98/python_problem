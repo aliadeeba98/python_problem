{
 "cells": [
  {
   "cell_type": "code",
   "execution_count": null,
   "metadata": {
    "scrolled": true
   },
   "outputs": [],
   "source": [
    "#Below cell contains the code in python for extracting all the tweets done by MIDAS IIITD on twitter\n",
    "\n",
    "#For this task Pyhton library named as tweepy help me a lot for accessing twitter API.\n",
    "\n",
    "#For the proper visualization of the information I use pandas dataframe.\n",
    "\n",
    "#Then I stored all the relevan information in Json file and then finally I write the code for parsing that Json file."
   ]
  },
  {
   "cell_type": "code",
   "execution_count": null,
   "metadata": {
    "scrolled": true
   },
   "outputs": [],
   "source": [
    "    from tweepy import API \n",
    "    from tweepy import Cursor\n",
    "    from tweepy.streaming import StreamListener\n",
    "    from tweepy import OAuthHandler\n",
    "    from tweepy import Stream\n",
    "    import numpy as np\n",
    "    import pandas as pd\n",
    "\n",
    "\n",
    "# # # # TWITTER CLIENT # # # #\n",
    "    class TwitterClient():\n",
    "        def __init__(self, twitter_user=None):\n",
    "            self.auth = TwitterAuthenticator().authenticate_twitter_app()\n",
    "            self.twitter_client = API(self.auth)\n",
    "\n",
    "            self.twitter_user = twitter_user\n",
    "\n",
    "        def get_twitter_client_api(self):\n",
    "            return self.twitter_client\n",
    "\n",
    "# # # # TWITTER AUTHENTICATER # # # #\n",
    "    class TwitterAuthenticator():\n",
    "\n",
    "        def authenticate_twitter_app(self):\n",
    "            CONSUMER_KEY = \"hLufmhWtOwcFL89JV7gLxBtpW\" \n",
    "            CONSUMER_SECRET = \"sOVEW6YdOEKgxsMJtFOoEMpzhXMBZLIbzHWFdaiXRAOVlQPTS6\"\n",
    "            ACCESS_TOKEN = \"1107881415205486592-oHBtQLQXLvFkHbVvUuGf3cQXpXqYXk\"\n",
    "            ACCESS_TOKEN_SECRET = \"T8alId0ffRoauUdmBgbyKEYyQKkIHVVxvakm8aoQdXBxg\"\n",
    "\n",
    "            auth = OAuthHandler(CONSUMER_KEY,CONSUMER_SECRET)\n",
    "            auth.set_access_token(ACCESS_TOKEN,ACCESS_TOKEN_SECRET)\n",
    "            return auth\n",
    "   \n",
    "    class TweetAnalyzer():\n",
    "        \"\"\"\n",
    "        Functionality for analyzing and categorizing content from tweets.\n",
    "        \"\"\"\n",
    "        def tweets_to_data_frame(self, tweets):\n",
    "            df = pd.DataFrame(data=[tweet.text for tweet in tweets], columns=['Tweets'])\n",
    "\n",
    "            df['date'] = np.array([tweet.created_at for tweet in tweets])\n",
    "            df['likes'] = np.array([tweet.favorite_count for tweet in tweets])\n",
    "            df['retweets'] = np.array([tweet.retweet_count for tweet in tweets])\n",
    "            count=0\n",
    "            a=[]\n",
    "            for tweet in tweets:\n",
    "                for media in tweet.entities.get(\"media\",[{}]):\n",
    "                    if media.get(\"type\",None)==\"photo\":\n",
    "                        count=count+1\n",
    "                a.append(count)\n",
    "            for j in range(len(a)):\n",
    "                if a[j]==0:\n",
    "                    a[j]=None\n",
    "            \n",
    "            mat=np.array(a)\n",
    "            df['Image_count'] = mat\n",
    "            return df\n",
    " \n",
    "    if __name__ == '__main__':\n",
    "\n",
    "        twitter_client = TwitterClient()\n",
    "        tweet_analyzer = TweetAnalyzer()\n",
    "\n",
    "        api = twitter_client.get_twitter_client_api()\n",
    "\n",
    "        tweets = api.user_timeline(screen_name=\"MIDASIIITD\")\n",
    "\n",
    "        df = tweet_analyzer.tweets_to_data_frame(tweets)\n",
    "        with open('temp.json','w') as f:\n",
    "            f.write(df.to_json(orient='records',lines=True))\n",
    "        f.close()\n",
    "    \n",
    "        print(df.head)\n"
   ]
  },
  {
   "cell_type": "code",
   "execution_count": null,
   "metadata": {
    "scrolled": true
   },
   "outputs": [],
   "source": [
    "import json\n",
    "try:\n",
    "        with open('temp.json',encoding='utf-8') as data_file:    \n",
    "            json_encoded = json.dumps(data_file.read())\n",
    "        json_decoded=json.loads(json_encoded)\n",
    "        print(json_decoded)\n",
    "except ValueError:\n",
    "    print('Decoding Json has failed')"
   ]
  },
  {
   "cell_type": "code",
   "execution_count": null,
   "metadata": {
    "scrolled": true
   },
   "outputs": [],
   "source": []
  },
  {
   "cell_type": "code",
   "execution_count": null,
   "metadata": {
    "scrolled": true
   },
   "outputs": [],
   "source": []
  }
 ],
 "metadata": {
  "kernelspec": {
   "display_name": "Python 3",
   "language": "python",
   "name": "python3"
  },
  "language_info": {
   "codemirror_mode": {
    "name": "ipython",
    "version": 3
   },
   "file_extension": ".py",
   "mimetype": "text/x-python",
   "name": "python",
   "nbconvert_exporter": "python",
   "pygments_lexer": "ipython3",
   "version": "3.5.2"
  }
 },
 "nbformat": 4,
 "nbformat_minor": 2
}
